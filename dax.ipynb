{
 "cells": [
  {
   "cell_type": "markdown",
   "metadata": {},
   "source": [
    "Je vais travailer sur le Dax, pour l'instant je n'ai pas encore d'idée concernant les features que je vais utiliser mais au fil du temps je vais définir de façon concrète le modèle vers lequel je vais m'orienter."
   ]
  },
  {
   "cell_type": "code",
   "execution_count": 7,
   "metadata": {},
   "outputs": [],
   "source": [
    "import yfinance as yf\n",
    "import pandas as pd \n",
    "import matplotlib.pyplot as plt\n",
    "import numpy as np"
   ]
  },
  {
   "cell_type": "code",
   "execution_count": 2,
   "metadata": {},
   "outputs": [
    {
     "name": "stderr",
     "output_type": "stream",
     "text": [
      "[*********************100%***********************]  1 of 1 completed\n"
     ]
    },
    {
     "data": {
      "text/html": [
       "<div>\n",
       "<style scoped>\n",
       "    .dataframe tbody tr th:only-of-type {\n",
       "        vertical-align: middle;\n",
       "    }\n",
       "\n",
       "    .dataframe tbody tr th {\n",
       "        vertical-align: top;\n",
       "    }\n",
       "\n",
       "    .dataframe thead tr th {\n",
       "        text-align: left;\n",
       "    }\n",
       "\n",
       "    .dataframe thead tr:last-of-type th {\n",
       "        text-align: right;\n",
       "    }\n",
       "</style>\n",
       "<table border=\"1\" class=\"dataframe\">\n",
       "  <thead>\n",
       "    <tr>\n",
       "      <th>Price</th>\n",
       "      <th>Adj Close</th>\n",
       "      <th>Close</th>\n",
       "      <th>High</th>\n",
       "      <th>Low</th>\n",
       "      <th>Open</th>\n",
       "      <th>Volume</th>\n",
       "      <th>returns</th>\n",
       "    </tr>\n",
       "    <tr>\n",
       "      <th>Ticker</th>\n",
       "      <th>^GDAXI</th>\n",
       "      <th>^GDAXI</th>\n",
       "      <th>^GDAXI</th>\n",
       "      <th>^GDAXI</th>\n",
       "      <th>^GDAXI</th>\n",
       "      <th>^GDAXI</th>\n",
       "      <th></th>\n",
       "    </tr>\n",
       "    <tr>\n",
       "      <th>Date</th>\n",
       "      <th></th>\n",
       "      <th></th>\n",
       "      <th></th>\n",
       "      <th></th>\n",
       "      <th></th>\n",
       "      <th></th>\n",
       "      <th></th>\n",
       "    </tr>\n",
       "  </thead>\n",
       "  <tbody>\n",
       "    <tr>\n",
       "      <th>2024-10-21 00:00:00+00:00</th>\n",
       "      <td>19461.189453</td>\n",
       "      <td>19461.189453</td>\n",
       "      <td>19645.019531</td>\n",
       "      <td>19451.720703</td>\n",
       "      <td>19609.419922</td>\n",
       "      <td>41631500</td>\n",
       "      <td>-0.997996</td>\n",
       "    </tr>\n",
       "    <tr>\n",
       "      <th>2024-10-22 00:00:00+00:00</th>\n",
       "      <td>19421.910156</td>\n",
       "      <td>19421.910156</td>\n",
       "      <td>19591.490234</td>\n",
       "      <td>19368.689453</td>\n",
       "      <td>19528.910156</td>\n",
       "      <td>54438000</td>\n",
       "      <td>-0.201834</td>\n",
       "    </tr>\n",
       "    <tr>\n",
       "      <th>2024-10-23 00:00:00+00:00</th>\n",
       "      <td>19377.619141</td>\n",
       "      <td>19377.619141</td>\n",
       "      <td>19464.539062</td>\n",
       "      <td>19330.109375</td>\n",
       "      <td>19399.330078</td>\n",
       "      <td>52260500</td>\n",
       "      <td>-0.228047</td>\n",
       "    </tr>\n",
       "    <tr>\n",
       "      <th>2024-10-24 00:00:00+00:00</th>\n",
       "      <td>19443.000000</td>\n",
       "      <td>19443.000000</td>\n",
       "      <td>19555.449219</td>\n",
       "      <td>19417.730469</td>\n",
       "      <td>19417.730469</td>\n",
       "      <td>55469100</td>\n",
       "      <td>0.337404</td>\n",
       "    </tr>\n",
       "    <tr>\n",
       "      <th>2024-10-25 00:00:00+00:00</th>\n",
       "      <td>19463.589844</td>\n",
       "      <td>19463.589844</td>\n",
       "      <td>19516.240234</td>\n",
       "      <td>19388.910156</td>\n",
       "      <td>19419.519531</td>\n",
       "      <td>46014500</td>\n",
       "      <td>0.105898</td>\n",
       "    </tr>\n",
       "    <tr>\n",
       "      <th>2024-10-28 00:00:00+00:00</th>\n",
       "      <td>19531.619141</td>\n",
       "      <td>19531.619141</td>\n",
       "      <td>19570.919922</td>\n",
       "      <td>19399.160156</td>\n",
       "      <td>19528.669922</td>\n",
       "      <td>46669100</td>\n",
       "      <td>0.349521</td>\n",
       "    </tr>\n",
       "    <tr>\n",
       "      <th>2024-10-29 00:00:00+00:00</th>\n",
       "      <td>19478.070312</td>\n",
       "      <td>19478.070312</td>\n",
       "      <td>19643.119141</td>\n",
       "      <td>19465.000000</td>\n",
       "      <td>19634.330078</td>\n",
       "      <td>46982400</td>\n",
       "      <td>-0.274165</td>\n",
       "    </tr>\n",
       "    <tr>\n",
       "      <th>2024-10-30 00:00:00+00:00</th>\n",
       "      <td>19257.339844</td>\n",
       "      <td>19257.339844</td>\n",
       "      <td>19420.939453</td>\n",
       "      <td>19201.240234</td>\n",
       "      <td>19403.429688</td>\n",
       "      <td>59541100</td>\n",
       "      <td>-1.133226</td>\n",
       "    </tr>\n",
       "    <tr>\n",
       "      <th>2024-10-31 00:00:00+00:00</th>\n",
       "      <td>19077.539062</td>\n",
       "      <td>19077.539062</td>\n",
       "      <td>19184.310547</td>\n",
       "      <td>19004.970703</td>\n",
       "      <td>19096.679688</td>\n",
       "      <td>63370400</td>\n",
       "      <td>-0.933674</td>\n",
       "    </tr>\n",
       "    <tr>\n",
       "      <th>2024-11-01 00:00:00+00:00</th>\n",
       "      <td>19254.970703</td>\n",
       "      <td>19254.970703</td>\n",
       "      <td>19297.640625</td>\n",
       "      <td>19082.099609</td>\n",
       "      <td>19093.990234</td>\n",
       "      <td>0</td>\n",
       "      <td>0.930055</td>\n",
       "    </tr>\n",
       "  </tbody>\n",
       "</table>\n",
       "</div>"
      ],
      "text/plain": [
       "Price                         Adj Close         Close          High  \\\n",
       "Ticker                           ^GDAXI        ^GDAXI        ^GDAXI   \n",
       "Date                                                                  \n",
       "2024-10-21 00:00:00+00:00  19461.189453  19461.189453  19645.019531   \n",
       "2024-10-22 00:00:00+00:00  19421.910156  19421.910156  19591.490234   \n",
       "2024-10-23 00:00:00+00:00  19377.619141  19377.619141  19464.539062   \n",
       "2024-10-24 00:00:00+00:00  19443.000000  19443.000000  19555.449219   \n",
       "2024-10-25 00:00:00+00:00  19463.589844  19463.589844  19516.240234   \n",
       "2024-10-28 00:00:00+00:00  19531.619141  19531.619141  19570.919922   \n",
       "2024-10-29 00:00:00+00:00  19478.070312  19478.070312  19643.119141   \n",
       "2024-10-30 00:00:00+00:00  19257.339844  19257.339844  19420.939453   \n",
       "2024-10-31 00:00:00+00:00  19077.539062  19077.539062  19184.310547   \n",
       "2024-11-01 00:00:00+00:00  19254.970703  19254.970703  19297.640625   \n",
       "\n",
       "Price                               Low          Open    Volume   returns  \n",
       "Ticker                           ^GDAXI        ^GDAXI    ^GDAXI            \n",
       "Date                                                                       \n",
       "2024-10-21 00:00:00+00:00  19451.720703  19609.419922  41631500 -0.997996  \n",
       "2024-10-22 00:00:00+00:00  19368.689453  19528.910156  54438000 -0.201834  \n",
       "2024-10-23 00:00:00+00:00  19330.109375  19399.330078  52260500 -0.228047  \n",
       "2024-10-24 00:00:00+00:00  19417.730469  19417.730469  55469100  0.337404  \n",
       "2024-10-25 00:00:00+00:00  19388.910156  19419.519531  46014500  0.105898  \n",
       "2024-10-28 00:00:00+00:00  19399.160156  19528.669922  46669100  0.349521  \n",
       "2024-10-29 00:00:00+00:00  19465.000000  19634.330078  46982400 -0.274165  \n",
       "2024-10-30 00:00:00+00:00  19201.240234  19403.429688  59541100 -1.133226  \n",
       "2024-10-31 00:00:00+00:00  19004.970703  19096.679688  63370400 -0.933674  \n",
       "2024-11-01 00:00:00+00:00  19082.099609  19093.990234         0  0.930055  "
      ]
     },
     "execution_count": 2,
     "metadata": {},
     "output_type": "execute_result"
    }
   ],
   "source": [
    "data = yf.download(tickers = \"^GDAXI\", period = \"max\")\n",
    "data['returns'] = ((data['Close'].shift(0) - data['Close'].shift(1))/data['Close'].shift(1))*100\n",
    "data.tail(10)"
   ]
  },
  {
   "cell_type": "code",
   "execution_count": 6,
   "metadata": {},
   "outputs": [
    {
     "data": {
      "text/plain": [
       "Text(0, 0.5, 'returns')"
      ]
     },
     "execution_count": 6,
     "metadata": {},
     "output_type": "execute_result"
    },
    {
     "data": {
      "image/png": "[encoded data removed]",
      "text/plain": [
       "<Figure size 1000x600 with 1 Axes>"
      ]
     },
     "metadata": {},
     "output_type": "display_data"
    }
   ],
   "source": [
    "plt.figure(figsize=(10, 6))\n",
    "plt.scatter(data['Volume'], data['returns'])\n",
    "plt.title('GDAXI Volume vs. Returns')\n",
    "plt.xlabel('Volume')\n",
    "plt.ylabel('returns')\n"
   ]
  },
  {
   "cell_type": "code",
   "execution_count": 8,
   "metadata": {},
   "outputs": [],
   "source": [
    "def initialisation(X):\n",
    "    W = np.random.randn(X.shape[1], 1)\n",
    "    b = np.random.randn(1)\n",
    "    return (W, b)"
   ]
  },
  {
   "cell_type": "code",
   "execution_count": 9,
   "metadata": {},
   "outputs": [],
   "source": [
    "def model (X, W, b):\n",
    "    Z = X.dot(W) + b\n",
    "    A = 1 / (1 + np.exp(-Z))\n",
    "    return A"
   ]
  },
  {
   "cell_type": "code",
   "execution_count": 10,
   "metadata": {},
   "outputs": [],
   "source": [
    "def log_loss(A, y):\n",
    "    return 1 / len(y) * np.sum(-y * np.log(A) - (1 - y) * np.log(1 - A))"
   ]
  },
  {
   "cell_type": "code",
   "execution_count": 11,
   "metadata": {},
   "outputs": [],
   "source": [
    "def gradient(A, X, y):\n",
    "    dW = 1/len(y) * np.dot(X.T, A - y)\n",
    "    db = 1/len(y) * np.sum (A - y)\n",
    "    return (dW, db)"
   ]
  },
  {
   "cell_type": "code",
   "execution_count": 12,
   "metadata": {},
   "outputs": [],
   "source": [
    "def update (dW, db, W, b, learning_rate):\n",
    "    W = W - learning_rate * dW\n",
    "    b = b - learning_rate * db\n",
    "    return (W, b)"
   ]
  },
  {
   "cell_type": "code",
   "execution_count": 13,
   "metadata": {},
   "outputs": [],
   "source": [
    "from sklearn.metrics import accuracy_score"
   ]
  },
  {
   "cell_type": "code",
   "execution_count": 14,
   "metadata": {},
   "outputs": [],
   "source": [
    "def predict(X, W, b):\n",
    "    A = model(X, W, b)\n",
    "    print(A)\n",
    "    return A >= 0.5"
   ]
  },
  {
   "cell_type": "code",
   "execution_count": null,
   "metadata": {},
   "outputs": [],
   "source": [
    "def artificial_neuron(X, y, learning_rate = 0.1, n_iter = 100):\n",
    "    W, b = initialisation(X)\n",
    "    \n",
    "    Loss = []\n",
    "\n",
    "    for i in range (n_iter):\n",
    "        A = model(X, W, b)\n",
    "        Loss.append(log_loss(A, y))\n",
    "        dW, db = gradient( A, X, y)\n",
    "        W, b = update(dW, db, W, b, learning_rate)\n",
    "\n",
    "    y_pred = predict(X, W, b)\n",
    "    print(accuracy_score(y, y_pred))\n",
    "\n",
    "    plt.plot(Loss)\n",
    "    plt.xlabel('Iterations')\n",
    "    plt.ylabel('Log Loss')\n",
    "    plt.title('Log Loss vs. Iterations')\n",
    "    plt.show()\n",
    "\n",
    "    return(W,b)"
   ]
  },
  {
   "cell_type": "code",
   "execution_count": 16,
   "metadata": {},
   "outputs": [
    {
     "ename": "NameError",
     "evalue": "name 'X' is not defined",
     "output_type": "error",
     "traceback": [
      "\u001b[1;31m---------------------------------------------------------------------------\u001b[0m",
      "\u001b[1;31mNameError\u001b[0m                                 Traceback (most recent call last)",
      "Cell \u001b[1;32mIn[16], line 1\u001b[0m\n\u001b[1;32m----> 1\u001b[0m W,b \u001b[38;5;241m=\u001b[39m artificial_neuron(\u001b[43mX\u001b[49m, y)\n",
      "\u001b[1;31mNameError\u001b[0m: name 'X' is not defined"
     ]
    }
   ],
   "source": [
    "W,b = artificial_neuron(X, y)"
   ]
  }
 ],
 "metadata": {
  "kernelspec": {
   "display_name": "env",
   "language": "python",
   "name": "python3"
  },
  "language_info": {
   "codemirror_mode": {
    "name": "ipython",
    "version": 3
   },
   "file_extension": ".py",
   "mimetype": "text/x-python",
   "name": "python",
   "nbconvert_exporter": "python",
   "pygments_lexer": "ipython3",
   "version": "3.12.6"
  }
 },
 "nbformat": 4,
 "nbformat_minor": 2
}
